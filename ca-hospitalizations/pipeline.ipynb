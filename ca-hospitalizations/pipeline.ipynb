{
 "cells": [
  {
   "cell_type": "markdown",
   "metadata": {
    "papermill": {
     "duration": 0.011911,
     "end_time": "2020-04-17T19:51:30.057506",
     "exception": false,
     "start_time": "2020-04-17T19:51:30.045595",
     "status": "completed"
    },
    "tags": []
   },
   "source": [
    "# California COVID-19 Hospitalizations\n",
    "\n",
    "COVID-19 hospitalizations in California by county.\n",
    "\n",
    "## Requirements"
   ]
  },
  {
   "cell_type": "code",
   "execution_count": 1,
   "metadata": {
    "execution": {
     "iopub.execute_input": "2020-04-17T19:51:30.081487Z",
     "iopub.status.busy": "2020-04-17T19:51:30.080568Z",
     "iopub.status.idle": "2020-04-17T19:51:30.282408Z",
     "shell.execute_reply": "2020-04-17T19:51:30.283192Z"
    },
    "papermill": {
     "duration": 0.218216,
     "end_time": "2020-04-17T19:51:30.283484",
     "exception": false,
     "start_time": "2020-04-17T19:51:30.065268",
     "status": "completed"
    },
    "tags": []
   },
   "outputs": [
    {
     "name": "stdout",
     "output_type": "stream",
     "text": [
      "jupyter\r\n",
      "pandas\r\n",
      "ploomber\r\n",
      "matplotlib"
     ]
    }
   ],
   "source": [
    "! cat requirements.txt"
   ]
  },
  {
   "cell_type": "markdown",
   "metadata": {
    "papermill": {
     "duration": 0.007549,
     "end_time": "2020-04-17T19:51:30.300988",
     "exception": false,
     "start_time": "2020-04-17T19:51:30.293439",
     "status": "completed"
    },
    "tags": []
   },
   "source": [
    "## Data sources\n",
    "\n",
    "COVID-19: https://data.chhs.ca.gov/dataset/california-covid-19-hospital-data-and-case-statistics\n",
    "\n",
    "Population: https://data.ca.gov/dataset/california-population-projection-by-county-age-gender-and-ethnicity\n",
    "\n",
    "## Data cleaning"
   ]
  },
  {
   "cell_type": "code",
   "execution_count": 2,
   "metadata": {
    "execution": {
     "iopub.execute_input": "2020-04-17T19:51:30.323931Z",
     "iopub.status.busy": "2020-04-17T19:51:30.323318Z",
     "iopub.status.idle": "2020-04-17T19:51:31.483005Z",
     "shell.execute_reply": "2020-04-17T19:51:31.483709Z"
    },
    "papermill": {
     "duration": 1.174282,
     "end_time": "2020-04-17T19:51:31.483924",
     "exception": false,
     "start_time": "2020-04-17T19:51:30.309642",
     "status": "completed"
    },
    "tags": []
   },
   "outputs": [],
   "source": [
    "import pandas as pd\n",
    "from pathlib import Path\n",
    "\n",
    "from IPython.display import Image\n",
    "import matplotlib.pyplot as plt\n",
    "import matplotlib as mpl\n",
    "\n",
    "from ploomber import DAG\n",
    "from ploomber.tasks import DownloadFromURL, PythonCallable\n",
    "from ploomber.products import File"
   ]
  },
  {
   "cell_type": "code",
   "execution_count": 3,
   "metadata": {
    "execution": {
     "iopub.execute_input": "2020-04-17T19:51:31.509319Z",
     "iopub.status.busy": "2020-04-17T19:51:31.508698Z",
     "iopub.status.idle": "2020-04-17T19:51:31.511270Z",
     "shell.execute_reply": "2020-04-17T19:51:31.511792Z"
    },
    "papermill": {
     "duration": 0.019669,
     "end_time": "2020-04-17T19:51:31.511992",
     "exception": false,
     "start_time": "2020-04-17T19:51:31.492323",
     "status": "completed"
    },
    "tags": []
   },
   "outputs": [],
   "source": [
    "# matplotlib config\n",
    "plt.style.use('ggplot')\n",
    "\n",
    "mpl.rcParams['axes.titlesize'] = 20\n",
    "mpl.rcParams['axes.labelsize'] = 14\n",
    "mpl.rcParams['xtick.labelsize'] = 16\n",
    "mpl.rcParams['ytick.labelsize'] = 16\n",
    "mpl.rcParams['figure.figsize'] = [8.0, 8.0]\n",
    "mpl.rcParams['figure.dpi'] = 120"
   ]
  },
  {
   "cell_type": "code",
   "execution_count": 4,
   "metadata": {
    "execution": {
     "iopub.execute_input": "2020-04-17T19:51:31.538386Z",
     "iopub.status.busy": "2020-04-17T19:51:31.537494Z",
     "iopub.status.idle": "2020-04-17T19:51:31.539385Z",
     "shell.execute_reply": "2020-04-17T19:51:31.539831Z"
    },
    "papermill": {
     "duration": 0.017982,
     "end_time": "2020-04-17T19:51:31.539988",
     "exception": false,
     "start_time": "2020-04-17T19:51:31.522006",
     "status": "completed"
    },
    "tags": []
   },
   "outputs": [],
   "source": [
    "# we will save everything in data/\n",
    "ROOT = Path('data/')\n",
    "ROOT.mkdir(exist_ok=True)"
   ]
  },
  {
   "cell_type": "code",
   "execution_count": 5,
   "metadata": {
    "execution": {
     "iopub.execute_input": "2020-04-17T19:51:31.561045Z",
     "iopub.status.busy": "2020-04-17T19:51:31.560251Z",
     "iopub.status.idle": "2020-04-17T19:51:31.562547Z",
     "shell.execute_reply": "2020-04-17T19:51:31.563064Z"
    },
    "papermill": {
     "duration": 0.014315,
     "end_time": "2020-04-17T19:51:31.563226",
     "exception": false,
     "start_time": "2020-04-17T19:51:31.548911",
     "status": "completed"
    },
    "tags": []
   },
   "outputs": [],
   "source": [
    "# we use ploomber to get the organize our tasks\n",
    "dag = DAG()"
   ]
  },
  {
   "cell_type": "code",
   "execution_count": 6,
   "metadata": {
    "execution": {
     "iopub.execute_input": "2020-04-17T19:51:31.590373Z",
     "iopub.status.busy": "2020-04-17T19:51:31.589679Z",
     "iopub.status.idle": "2020-04-17T19:51:31.591849Z",
     "shell.execute_reply": "2020-04-17T19:51:31.592283Z"
    },
    "papermill": {
     "duration": 0.020536,
     "end_time": "2020-04-17T19:51:31.592491",
     "exception": false,
     "start_time": "2020-04-17T19:51:31.571955",
     "status": "completed"
    },
    "tags": []
   },
   "outputs": [],
   "source": [
    "# first two tasks just download the data\n",
    "\n",
    "SOURCE = 'https://data.chhs.ca.gov/dataset/6882c390-b2d7-4b9a-aefa-2068cee63e47/resource/6cd8d424-dfaa-4bdd-9410-a3d656e1176e/download/covid19data.csv'\n",
    "download = DownloadFromURL(SOURCE, File(ROOT / 'raw.csv'), dag, name='raw')\n",
    "\n",
    "SOURCE_POP = 'https://data.ca.gov/dataset/7a8c03d3-ed86-498a-acdb-8ea09ccb4130/resource/2c217b79-4625-4ab2-86b3-6fc5d66f0409/download/population-estimates-and-projections-by-county-age-and-sex-california-1970-2050.csv'\n",
    "download_pop = DownloadFromURL(SOURCE_POP, File(\n",
    "    ROOT / 'raw_pop'), dag, name='raw_pop')"
   ]
  },
  {
   "cell_type": "code",
   "execution_count": 7,
   "metadata": {
    "execution": {
     "iopub.execute_input": "2020-04-17T19:51:31.619926Z",
     "iopub.status.busy": "2020-04-17T19:51:31.619220Z",
     "iopub.status.idle": "2020-04-17T19:51:31.621769Z",
     "shell.execute_reply": "2020-04-17T19:51:31.622299Z"
    },
    "papermill": {
     "duration": 0.020724,
     "end_time": "2020-04-17T19:51:31.622519",
     "exception": false,
     "start_time": "2020-04-17T19:51:31.601795",
     "status": "completed"
    },
    "tags": []
   },
   "outputs": [],
   "source": [
    "# we then join the downloaded data to normalize using population by county\n",
    "def _join(upstream, product):\n",
    "    \"\"\"Join California COVID-19 hospitalizations with population data\n",
    "    \"\"\"\n",
    "    df = pd.read_csv(str(upstream['raw']))\n",
    "\n",
    "    df['Most Recent Date'] = pd.to_datetime(df['Most Recent Date'])\n",
    "    idx_m_recent = df.groupby('County Name')['Most Recent Date'].idxmax()\n",
    "    m_recent_total = df.iloc[idx_m_recent][['Most Recent Date', 'County Name',\n",
    "                                            'Total Count Confirmed']]\n",
    "    m_recent_total['county'] = m_recent_total['County Name'].str.upper()\n",
    "\n",
    "    pop = pd.read_csv(str(upstream['raw_pop']))\n",
    "    pop_by_county = pop[pop.year == 2020].groupby('county')[\n",
    "        ['pop_total']].sum()\n",
    "    m_recent = pop_by_county.merge(m_recent_total, on='county')\n",
    "    m_recent['Total count per 100k population'] = (m_recent['Total Count Confirmed']\n",
    "                                                   / m_recent['pop_total'] * 100_000)\n",
    "    m_recent.to_csv(str(product), index=False)"
   ]
  },
  {
   "cell_type": "code",
   "execution_count": 8,
   "metadata": {
    "execution": {
     "iopub.execute_input": "2020-04-17T19:51:31.650229Z",
     "iopub.status.busy": "2020-04-17T19:51:31.649418Z",
     "iopub.status.idle": "2020-04-17T19:51:31.652590Z",
     "shell.execute_reply": "2020-04-17T19:51:31.653192Z"
    },
    "papermill": {
     "duration": 0.022278,
     "end_time": "2020-04-17T19:51:31.653436",
     "exception": false,
     "start_time": "2020-04-17T19:51:31.631158",
     "status": "completed"
    },
    "tags": []
   },
   "outputs": [
    {
     "data": {
      "text/plain": [
       "PythonCallable: joined -> File(data/joined.csv)"
      ]
     },
     "execution_count": 8,
     "metadata": {},
     "output_type": "execute_result"
    }
   ],
   "source": [
    "join = PythonCallable(_join, File(ROOT / 'joined.csv'), dag, name='joined')\n",
    "\n",
    "# the joined data depends on the raw data\n",
    "(download + download_pop) >> join"
   ]
  },
  {
   "cell_type": "code",
   "execution_count": 9,
   "metadata": {
    "execution": {
     "iopub.execute_input": "2020-04-17T19:51:31.676325Z",
     "iopub.status.busy": "2020-04-17T19:51:31.675571Z",
     "iopub.status.idle": "2020-04-17T19:51:31.863064Z",
     "shell.execute_reply": "2020-04-17T19:51:31.863528Z"
    },
    "papermill": {
     "duration": 0.200725,
     "end_time": "2020-04-17T19:51:31.863722",
     "exception": false,
     "start_time": "2020-04-17T19:51:31.662997",
     "status": "completed"
    },
    "tags": []
   },
   "outputs": [
    {
     "data": {
      "application/vnd.jupyter.widget-view+json": {
       "model_id": "ab12d085ba034c4b9df2a5ce2b5b75ea",
       "version_major": 2,
       "version_minor": 0
      },
      "text/plain": [
       "HBox(children=(FloatProgress(value=0.0, max=3.0), HTML(value='')))"
      ]
     },
     "metadata": {},
     "output_type": "display_data"
    },
    {
     "name": "stdout",
     "output_type": "stream",
     "text": [
      "\n"
     ]
    },
    {
     "data": {
      "text/html": [
       "<table>\n",
       "<thead>\n",
       "<tr><th>name   </th><th>Last updated    </th><th>Outdated dependencies  </th><th>Outdated code  </th><th>Product        </th><th>Doc (short)                                                   </th><th>Location                        </th></tr>\n",
       "</thead>\n",
       "<tbody>\n",
       "<tr><td>raw    </td><td>Has not been run</td><td>False                  </td><td>True           </td><td>data/raw.csv   </td><td>                                                              </td><td>                                </td></tr>\n",
       "<tr><td>raw_pop</td><td>Has not been run</td><td>False                  </td><td>True           </td><td>data/raw_pop   </td><td>                                                              </td><td>                                </td></tr>\n",
       "<tr><td>joined </td><td>Has not been run</td><td>True                   </td><td>True           </td><td>data/joined.csv</td><td>Join California COVID-19 hospitalizations with population data</td><td>&lt;ipython-input-7-b94480aba20f&gt;:2</td></tr>\n",
       "</tbody>\n",
       "</table>"
      ],
      "text/plain": [
       "name     Last updated      Outdated dependencies    Outdated code    Product          Doc (short)                                                     Location\n",
       "-------  ----------------  -----------------------  ---------------  ---------------  --------------------------------------------------------------  --------------------------------\n",
       "raw      Has not been run  False                    True             data/raw.csv\n",
       "raw_pop  Has not been run  False                    True             data/raw_pop\n",
       "joined   Has not been run  True                     True             data/joined.csv  Join California COVID-19 hospitalizations with population data  <ipython-input-7-b94480aba20f>:2"
      ]
     },
     "execution_count": 9,
     "metadata": {},
     "output_type": "execute_result"
    }
   ],
   "source": [
    "# summary table\n",
    "dag.status()"
   ]
  },
  {
   "cell_type": "code",
   "execution_count": 10,
   "metadata": {
    "execution": {
     "iopub.execute_input": "2020-04-17T19:51:31.887238Z",
     "iopub.status.busy": "2020-04-17T19:51:31.886071Z",
     "iopub.status.idle": "2020-04-17T19:51:32.415931Z",
     "shell.execute_reply": "2020-04-17T19:51:32.416475Z"
    },
    "papermill": {
     "duration": 0.543377,
     "end_time": "2020-04-17T19:51:32.416678",
     "exception": false,
     "start_time": "2020-04-17T19:51:31.873301",
     "status": "completed"
    },
    "tags": []
   },
   "outputs": [
    {
     "data": {
      "application/vnd.jupyter.widget-view+json": {
       "model_id": "9885ea3ec9d242708f8e39cad0f48afa",
       "version_major": 2,
       "version_minor": 0
      },
      "text/plain": [
       "HBox(children=(FloatProgress(value=0.0, max=3.0), HTML(value='')))"
      ]
     },
     "metadata": {},
     "output_type": "display_data"
    },
    {
     "name": "stdout",
     "output_type": "stream",
     "text": [
      "\n"
     ]
    },
    {
     "data": {
      "image/png": "[encoded data removed]",
      "text/plain": [
       "<IPython.core.display.Image object>"
      ]
     },
     "execution_count": 10,
     "metadata": {},
     "output_type": "execute_result"
    }
   ],
   "source": [
    "# plot. NOTE: pygraphviz is required to plot, easiest way to install is via \"conda install pygraphviz\"\n",
    "path = dag.plot()\n",
    "Image(filename=path)"
   ]
  },
  {
   "cell_type": "code",
   "execution_count": 11,
   "metadata": {
    "execution": {
     "iopub.execute_input": "2020-04-17T19:51:32.457037Z",
     "iopub.status.busy": "2020-04-17T19:51:32.445468Z",
     "iopub.status.idle": "2020-04-17T19:51:36.229036Z",
     "shell.execute_reply": "2020-04-17T19:51:36.229487Z"
    },
    "papermill": {
     "duration": 3.801884,
     "end_time": "2020-04-17T19:51:36.229655",
     "exception": false,
     "start_time": "2020-04-17T19:51:32.427771",
     "status": "completed"
    },
    "tags": []
   },
   "outputs": [
    {
     "data": {
      "application/vnd.jupyter.widget-view+json": {
       "model_id": "0b88e032ea8e49eeb6487613313ff8e4",
       "version_major": 2,
       "version_minor": 0
      },
      "text/plain": [
       "HBox(children=(FloatProgress(value=0.0, max=3.0), HTML(value='')))"
      ]
     },
     "metadata": {},
     "output_type": "display_data"
    },
    {
     "name": "stdout",
     "output_type": "stream",
     "text": [
      "\n"
     ]
    },
    {
     "data": {
      "application/vnd.jupyter.widget-view+json": {
       "model_id": "9c331392ace147efb680b7827e1d1a31",
       "version_major": 2,
       "version_minor": 0
      },
      "text/plain": [
       "HBox(children=(FloatProgress(value=0.0, max=3.0), HTML(value='')))"
      ]
     },
     "metadata": {},
     "output_type": "display_data"
    },
    {
     "name": "stdout",
     "output_type": "stream",
     "text": [
      "\n"
     ]
    },
    {
     "data": {
      "text/html": [
       "<table>\n",
       "<thead>\n",
       "<tr><th>name   </th><th>Ran?  </th><th style=\"text-align: right;\">  Elapsed (s)</th><th style=\"text-align: right;\">  Percentage</th></tr>\n",
       "</thead>\n",
       "<tbody>\n",
       "<tr><td>raw_pop</td><td>True  </td><td style=\"text-align: right;\">     2.95331 </td><td style=\"text-align: right;\">    80.3592 </td></tr>\n",
       "<tr><td>raw    </td><td>True  </td><td style=\"text-align: right;\">     0.446961</td><td style=\"text-align: right;\">    12.1618 </td></tr>\n",
       "<tr><td>joined </td><td>True  </td><td style=\"text-align: right;\">     0.274864</td><td style=\"text-align: right;\">     7.47902</td></tr>\n",
       "</tbody>\n",
       "</table>"
      ],
      "text/plain": [
       "name     Ran?      Elapsed (s)    Percentage\n",
       "-------  ------  -------------  ------------\n",
       "raw_pop  True         2.95331       80.3592\n",
       "raw      True         0.446961      12.1618\n",
       "joined   True         0.274864       7.47902"
      ]
     },
     "execution_count": 11,
     "metadata": {},
     "output_type": "execute_result"
    }
   ],
   "source": [
    "# run all tasks\n",
    "dag.build()"
   ]
  },
  {
   "cell_type": "markdown",
   "metadata": {
    "papermill": {
     "duration": 0.012913,
     "end_time": "2020-04-17T19:51:36.256404",
     "exception": false,
     "start_time": "2020-04-17T19:51:36.243491",
     "status": "completed"
    },
    "tags": []
   },
   "source": [
    "## Hospitalizations per 100,000 people"
   ]
  },
  {
   "cell_type": "code",
   "execution_count": 12,
   "metadata": {
    "execution": {
     "iopub.execute_input": "2020-04-17T19:51:36.293607Z",
     "iopub.status.busy": "2020-04-17T19:51:36.290083Z",
     "iopub.status.idle": "2020-04-17T19:51:36.295844Z",
     "shell.execute_reply": "2020-04-17T19:51:36.296390Z"
    },
    "papermill": {
     "duration": 0.026564,
     "end_time": "2020-04-17T19:51:36.296582",
     "exception": false,
     "start_time": "2020-04-17T19:51:36.270018",
     "status": "completed"
    },
    "tags": []
   },
   "outputs": [],
   "source": [
    "# load joined data\n",
    "m_recent = pd.read_csv(str(dag['joined']))"
   ]
  },
  {
   "cell_type": "code",
   "execution_count": 13,
   "metadata": {
    "execution": {
     "iopub.execute_input": "2020-04-17T19:51:36.329460Z",
     "iopub.status.busy": "2020-04-17T19:51:36.328843Z",
     "iopub.status.idle": "2020-04-17T19:51:36.730416Z",
     "shell.execute_reply": "2020-04-17T19:51:36.731040Z"
    },
    "papermill": {
     "duration": 0.421903,
     "end_time": "2020-04-17T19:51:36.731224",
     "exception": false,
     "start_time": "2020-04-17T19:51:36.309321",
     "status": "completed"
    },
    "tags": []
   },
   "outputs": [
    {
     "data": {
      "text/plain": [
       "<matplotlib.axes._subplots.AxesSubplot at 0x118c9d6d0>"
      ]
     },
     "execution_count": 13,
     "metadata": {},
     "output_type": "execute_result"
    },
    {
     "data": {
      "image/png": "[encoded data removed]",
      "text/plain": [
       "<Figure size 960x960 with 1 Axes>"
      ]
     },
     "metadata": {},
     "output_type": "display_data"
    }
   ],
   "source": [
    "(m_recent[['County Name', 'Total count per 100k population']]\n",
    " .set_index('County Name')\n",
    " .sort_values(by='Total count per 100k population', ascending=False)\n",
    " .head(10)\n",
    " .plot(kind='bar', title='Normalized cases by county (top 10)'))"
   ]
  }
 ],
 "metadata": {
  "jupytext": {
   "cell_metadata_filter": "-all",
   "main_language": "python",
   "notebook_metadata_filter": "-all",
   "text_representation": {
    "extension": ".py",
    "format_name": "light"
   }
  },
  "kernelspec": {
   "display_name": "Python 3",
   "language": "python",
   "name": "python3"
  },
  "language_info": {
   "codemirror_mode": {
    "name": "ipython",
    "version": 3
   },
   "file_extension": ".py",
   "mimetype": "text/x-python",
   "name": "python",
   "nbconvert_exporter": "python",
   "pygments_lexer": "ipython3",
   "version": "3.7.7"
  },
  "papermill": {
   "duration": 7.602588,
   "end_time": "2020-04-17T19:51:36.856308",
   "environment_variables": {},
   "exception": null,
   "input_path": "/var/folders/3h/_lvh_w_x5g30rrjzb_xnn2j80000gq/T/tmp3zj1co8l/pipeline.ipynb",
   "output_path": "ca-hospitalizations/pipeline.ipynb",
   "parameters": {},
   "start_time": "2020-04-17T19:51:29.253720",
   "version": "2.1.0"
  },
  "widgets": {
   "application/vnd.jupyter.widget-state+json": {
    "state": {
     "0692a5dfef0f4d299ccf4fa6606e2d48": {
      "model_module": "@jupyter-widgets/base",
      "model_module_version": "1.2.0",
      "model_name": "LayoutModel",
      "state": {
       "_model_module": "@jupyter-widgets/base",
       "_model_module_version": "1.2.0",
       "_model_name": "LayoutModel",
       "_view_count": null,
       "_view_module": "@jupyter-widgets/base",
       "_view_module_version": "1.2.0",
       "_view_name": "LayoutView",
       "align_content": null,
       "align_items": null,
       "align_self": null,
       "border": null,
       "bottom": null,
       "display": null,
       "flex": null,
       "flex_flow": null,
       "grid_area": null,
       "grid_auto_columns": null,
       "grid_auto_flow": null,
       "grid_auto_rows": null,
       "grid_column": null,
       "grid_gap": null,
       "grid_row": null,
       "grid_template_areas": null,
       "grid_template_columns": null,
       "grid_template_rows": null,
       "height": null,
       "justify_content": null,
       "justify_items": null,
       "left": null,
       "margin": null,
       "max_height": null,
       "max_width": null,
       "min_height": null,
       "min_width": null,
       "object_fit": null,
       "object_position": null,
       "order": null,
       "overflow": null,
       "overflow_x": null,
       "overflow_y": null,
       "padding": null,
       "right": null,
       "top": null,
       "visibility": null,
       "width": null
      }
     },
     "08d5035822a24716b7d77d7266b41901": {
      "model_module": "@jupyter-widgets/controls",
      "model_module_version": "1.5.0",
      "model_name": "HTMLModel",
      "state": {
       "_dom_classes": [],
       "_model_module": "@jupyter-widgets/controls",
       "_model_module_version": "1.5.0",
       "_model_name": "HTMLModel",
       "_view_count": null,
       "_view_module": "@jupyter-widgets/controls",
       "_view_module_version": "1.5.0",
       "_view_name": "HTMLView",
       "description": "",
       "description_tooltip": null,
       "layout": "IPY_MODEL_be691e44006f4fe2b01bae983b481ecd",
       "placeholder": "​",
       "style": "IPY_MODEL_a553ca378eeb4f338a174ce5a49ca002",
       "value": " 3/3 [00:03&lt;00:00,  1.30s/it]"
      }
     },
     "09e5851ad6a3414c94c47b490672d54e": {
      "model_module": "@jupyter-widgets/controls",
      "model_module_version": "1.5.0",
      "model_name": "HTMLModel",
      "state": {
       "_dom_classes": [],
       "_model_module": "@jupyter-widgets/controls",
       "_model_module_version": "1.5.0",
       "_model_name": "HTMLModel",
       "_view_count": null,
       "_view_module": "@jupyter-widgets/controls",
       "_view_module_version": "1.5.0",
       "_view_name": "HTMLView",
       "description": "",
       "description_tooltip": null,
       "layout": "IPY_MODEL_a8b5fd8cc3d04a479609cd01f286b5b0",
       "placeholder": "​",
       "style": "IPY_MODEL_b48f857a1ba24461a721bc80f61432e8",
       "value": " 3/3 [00:03&lt;00:00,  1.29s/it]"
      }
     },
     "0b88e032ea8e49eeb6487613313ff8e4": {
      "model_module": "@jupyter-widgets/controls",
      "model_module_version": "1.5.0",
      "model_name": "HBoxModel",
      "state": {
       "_dom_classes": [],
       "_model_module": "@jupyter-widgets/controls",
       "_model_module_version": "1.5.0",
       "_model_name": "HBoxModel",
       "_view_count": null,
       "_view_module": "@jupyter-widgets/controls",
       "_view_module_version": "1.5.0",
       "_view_name": "HBoxView",
       "box_style": "",
       "children": [
        "IPY_MODEL_e69437def90e43d887893f719d1c211d",
        "IPY_MODEL_08d5035822a24716b7d77d7266b41901"
       ],
       "layout": "IPY_MODEL_17a941002ab64cf1ad001afffe1c48c8"
      }
     },
     "17a941002ab64cf1ad001afffe1c48c8": {
      "model_module": "@jupyter-widgets/base",
      "model_module_version": "1.2.0",
      "model_name": "LayoutModel",
      "state": {
       "_model_module": "@jupyter-widgets/base",
       "_model_module_version": "1.2.0",
       "_model_name": "LayoutModel",
       "_view_count": null,
       "_view_module": "@jupyter-widgets/base",
       "_view_module_version": "1.2.0",
       "_view_name": "LayoutView",
       "align_content": null,
       "align_items": null,
       "align_self": null,
       "border": null,
       "bottom": null,
       "display": null,
       "flex": null,
       "flex_flow": null,
       "grid_area": null,
       "grid_auto_columns": null,
       "grid_auto_flow": null,
       "grid_auto_rows": null,
       "grid_column": null,
       "grid_gap": null,
       "grid_row": null,
       "grid_template_areas": null,
       "grid_template_columns": null,
       "grid_template_rows": null,
       "height": null,
       "justify_content": null,
       "justify_items": null,
       "left": null,
       "margin": null,
       "max_height": null,
       "max_width": null,
       "min_height": null,
       "min_width": null,
       "object_fit": null,
       "object_position": null,
       "order": null,
       "overflow": null,
       "overflow_x": null,
       "overflow_y": null,
       "padding": null,
       "right": null,
       "top": null,
       "visibility": null,
       "width": null
      }
     },
     "17cb5ec30be74a2e82e3cc9cedef8b46": {
      "model_module": "@jupyter-widgets/controls",
      "model_module_version": "1.5.0",
      "model_name": "ProgressStyleModel",
      "state": {
       "_model_module": "@jupyter-widgets/controls",
       "_model_module_version": "1.5.0",
       "_model_name": "ProgressStyleModel",
       "_view_count": null,
       "_view_module": "@jupyter-widgets/base",
       "_view_module_version": "1.2.0",
       "_view_name": "StyleView",
       "bar_color": null,
       "description_width": "initial"
      }
     },
     "2f9494beae2c48bf8be326e662391f35": {
      "model_module": "@jupyter-widgets/base",
      "model_module_version": "1.2.0",
      "model_name": "LayoutModel",
      "state": {
       "_model_module": "@jupyter-widgets/base",
       "_model_module_version": "1.2.0",
       "_model_name": "LayoutModel",
       "_view_count": null,
       "_view_module": "@jupyter-widgets/base",
       "_view_module_version": "1.2.0",
       "_view_name": "LayoutView",
       "align_content": null,
       "align_items": null,
       "align_self": null,
       "border": null,
       "bottom": null,
       "display": null,
       "flex": null,
       "flex_flow": null,
       "grid_area": null,
       "grid_auto_columns": null,
       "grid_auto_flow": null,
       "grid_auto_rows": null,
       "grid_column": null,
       "grid_gap": null,
       "grid_row": null,
       "grid_template_areas": null,
       "grid_template_columns": null,
       "grid_template_rows": null,
       "height": null,
       "justify_content": null,
       "justify_items": null,
       "left": null,
       "margin": null,
       "max_height": null,
       "max_width": null,
       "min_height": null,
       "min_width": null,
       "object_fit": null,
       "object_position": null,
       "order": null,
       "overflow": null,
       "overflow_x": null,
       "overflow_y": null,
       "padding": null,
       "right": null,
       "top": null,
       "visibility": null,
       "width": null
      }
     },
     "3161d74ffd4c438b9ae437830b9f2665": {
      "model_module": "@jupyter-widgets/controls",
      "model_module_version": "1.5.0",
      "model_name": "DescriptionStyleModel",
      "state": {
       "_model_module": "@jupyter-widgets/controls",
       "_model_module_version": "1.5.0",
       "_model_name": "DescriptionStyleModel",
       "_view_count": null,
       "_view_module": "@jupyter-widgets/base",
       "_view_module_version": "1.2.0",
       "_view_name": "StyleView",
       "description_width": ""
      }
     },
     "36b881b6e6734925b38255774303c109": {
      "model_module": "@jupyter-widgets/controls",
      "model_module_version": "1.5.0",
      "model_name": "FloatProgressModel",
      "state": {
       "_dom_classes": [],
       "_model_module": "@jupyter-widgets/controls",
       "_model_module_version": "1.5.0",
       "_model_name": "FloatProgressModel",
       "_view_count": null,
       "_view_module": "@jupyter-widgets/controls",
       "_view_module_version": "1.5.0",
       "_view_name": "ProgressView",
       "bar_style": "success",
       "description": "Rendering DAG &quot;No name&quot;: 100%",
       "description_tooltip": null,
       "layout": "IPY_MODEL_bdc3b5b111574c5cad0253c82efb5f04",
       "max": 3.0,
       "min": 0.0,
       "orientation": "horizontal",
       "style": "IPY_MODEL_900da90a21c14e8fa0904e9ef4d18391",
       "value": 3.0
      }
     },
     "58b07e5fd96d43cc9196240abfcc9a02": {
      "model_module": "@jupyter-widgets/base",
      "model_module_version": "1.2.0",
      "model_name": "LayoutModel",
      "state": {
       "_model_module": "@jupyter-widgets/base",
       "_model_module_version": "1.2.0",
       "_model_name": "LayoutModel",
       "_view_count": null,
       "_view_module": "@jupyter-widgets/base",
       "_view_module_version": "1.2.0",
       "_view_name": "LayoutView",
       "align_content": null,
       "align_items": null,
       "align_self": null,
       "border": null,
       "bottom": null,
       "display": null,
       "flex": null,
       "flex_flow": null,
       "grid_area": null,
       "grid_auto_columns": null,
       "grid_auto_flow": null,
       "grid_auto_rows": null,
       "grid_column": null,
       "grid_gap": null,
       "grid_row": null,
       "grid_template_areas": null,
       "grid_template_columns": null,
       "grid_template_rows": null,
       "height": null,
       "justify_content": null,
       "justify_items": null,
       "left": null,
       "margin": null,
       "max_height": null,
       "max_width": null,
       "min_height": null,
       "min_width": null,
       "object_fit": null,
       "object_position": null,
       "order": null,
       "overflow": null,
       "overflow_x": null,
       "overflow_y": null,
       "padding": null,
       "right": null,
       "top": null,
       "visibility": null,
       "width": null
      }
     },
     "6b25bcfc8c0f45cd848bd269470636c4": {
      "model_module": "@jupyter-widgets/controls",
      "model_module_version": "1.5.0",
      "model_name": "DescriptionStyleModel",
      "state": {
       "_model_module": "@jupyter-widgets/controls",
       "_model_module_version": "1.5.0",
       "_model_name": "DescriptionStyleModel",
       "_view_count": null,
       "_view_module": "@jupyter-widgets/base",
       "_view_module_version": "1.2.0",
       "_view_name": "StyleView",
       "description_width": ""
      }
     },
     "838f33aafd284c639c0f6a6d7741dd75": {
      "model_module": "@jupyter-widgets/base",
      "model_module_version": "1.2.0",
      "model_name": "LayoutModel",
      "state": {
       "_model_module": "@jupyter-widgets/base",
       "_model_module_version": "1.2.0",
       "_model_name": "LayoutModel",
       "_view_count": null,
       "_view_module": "@jupyter-widgets/base",
       "_view_module_version": "1.2.0",
       "_view_name": "LayoutView",
       "align_content": null,
       "align_items": null,
       "align_self": null,
       "border": null,
       "bottom": null,
       "display": null,
       "flex": null,
       "flex_flow": null,
       "grid_area": null,
       "grid_auto_columns": null,
       "grid_auto_flow": null,
       "grid_auto_rows": null,
       "grid_column": null,
       "grid_gap": null,
       "grid_row": null,
       "grid_template_areas": null,
       "grid_template_columns": null,
       "grid_template_rows": null,
       "height": null,
       "justify_content": null,
       "justify_items": null,
       "left": null,
       "margin": null,
       "max_height": null,
       "max_width": null,
       "min_height": null,
       "min_width": null,
       "object_fit": null,
       "object_position": null,
       "order": null,
       "overflow": null,
       "overflow_x": null,
       "overflow_y": null,
       "padding": null,
       "right": null,
       "top": null,
       "visibility": null,
       "width": null
      }
     },
     "8b249579935c4cbdb4ba7aad46b4e210": {
      "model_module": "@jupyter-widgets/controls",
      "model_module_version": "1.5.0",
      "model_name": "FloatProgressModel",
      "state": {
       "_dom_classes": [],
       "_model_module": "@jupyter-widgets/controls",
       "_model_module_version": "1.5.0",
       "_model_name": "FloatProgressModel",
       "_view_count": null,
       "_view_module": "@jupyter-widgets/controls",
       "_view_module_version": "1.5.0",
       "_view_name": "ProgressView",
       "bar_style": "success",
       "description": "Building task &quot;joined&quot;: 100%",
       "description_tooltip": null,
       "layout": "IPY_MODEL_ed9d8960008b413fa017536326c63c3c",
       "max": 3.0,
       "min": 0.0,
       "orientation": "horizontal",
       "style": "IPY_MODEL_17cb5ec30be74a2e82e3cc9cedef8b46",
       "value": 3.0
      }
     },
     "8f6bff75d4384826a78865659fd0a795": {
      "model_module": "@jupyter-widgets/controls",
      "model_module_version": "1.5.0",
      "model_name": "HTMLModel",
      "state": {
       "_dom_classes": [],
       "_model_module": "@jupyter-widgets/controls",
       "_model_module_version": "1.5.0",
       "_model_name": "HTMLModel",
       "_view_count": null,
       "_view_module": "@jupyter-widgets/controls",
       "_view_module_version": "1.5.0",
       "_view_name": "HTMLView",
       "description": "",
       "description_tooltip": null,
       "layout": "IPY_MODEL_f95a92d58e9b4028abdd4d2b6f073f0a",
       "placeholder": "​",
       "style": "IPY_MODEL_3161d74ffd4c438b9ae437830b9f2665",
       "value": " 3/3 [00:00&lt;00:00,  5.37it/s]"
      }
     },
     "900da90a21c14e8fa0904e9ef4d18391": {
      "model_module": "@jupyter-widgets/controls",
      "model_module_version": "1.5.0",
      "model_name": "ProgressStyleModel",
      "state": {
       "_model_module": "@jupyter-widgets/controls",
       "_model_module_version": "1.5.0",
       "_model_name": "ProgressStyleModel",
       "_view_count": null,
       "_view_module": "@jupyter-widgets/base",
       "_view_module_version": "1.2.0",
       "_view_name": "StyleView",
       "bar_color": null,
       "description_width": "initial"
      }
     },
     "9699db7131ee440a998586fdabc0243a": {
      "model_module": "@jupyter-widgets/base",
      "model_module_version": "1.2.0",
      "model_name": "LayoutModel",
      "state": {
       "_model_module": "@jupyter-widgets/base",
       "_model_module_version": "1.2.0",
       "_model_name": "LayoutModel",
       "_view_count": null,
       "_view_module": "@jupyter-widgets/base",
       "_view_module_version": "1.2.0",
       "_view_name": "LayoutView",
       "align_content": null,
       "align_items": null,
       "align_self": null,
       "border": null,
       "bottom": null,
       "display": null,
       "flex": null,
       "flex_flow": null,
       "grid_area": null,
       "grid_auto_columns": null,
       "grid_auto_flow": null,
       "grid_auto_rows": null,
       "grid_column": null,
       "grid_gap": null,
       "grid_row": null,
       "grid_template_areas": null,
       "grid_template_columns": null,
       "grid_template_rows": null,
       "height": null,
       "justify_content": null,
       "justify_items": null,
       "left": null,
       "margin": null,
       "max_height": null,
       "max_width": null,
       "min_height": null,
       "min_width": null,
       "object_fit": null,
       "object_position": null,
       "order": null,
       "overflow": null,
       "overflow_x": null,
       "overflow_y": null,
       "padding": null,
       "right": null,
       "top": null,
       "visibility": null,
       "width": null
      }
     },
     "9885ea3ec9d242708f8e39cad0f48afa": {
      "model_module": "@jupyter-widgets/controls",
      "model_module_version": "1.5.0",
      "model_name": "HBoxModel",
      "state": {
       "_dom_classes": [],
       "_model_module": "@jupyter-widgets/controls",
       "_model_module_version": "1.5.0",
       "_model_name": "HBoxModel",
       "_view_count": null,
       "_view_module": "@jupyter-widgets/controls",
       "_view_module_version": "1.5.0",
       "_view_name": "HBoxView",
       "box_style": "",
       "children": [
        "IPY_MODEL_9d86fef93cc94543938f44cf568bc2c6",
        "IPY_MODEL_8f6bff75d4384826a78865659fd0a795"
       ],
       "layout": "IPY_MODEL_9699db7131ee440a998586fdabc0243a"
      }
     },
     "9c331392ace147efb680b7827e1d1a31": {
      "model_module": "@jupyter-widgets/controls",
      "model_module_version": "1.5.0",
      "model_name": "HBoxModel",
      "state": {
       "_dom_classes": [],
       "_model_module": "@jupyter-widgets/controls",
       "_model_module_version": "1.5.0",
       "_model_name": "HBoxModel",
       "_view_count": null,
       "_view_module": "@jupyter-widgets/controls",
       "_view_module_version": "1.5.0",
       "_view_name": "HBoxView",
       "box_style": "",
       "children": [
        "IPY_MODEL_8b249579935c4cbdb4ba7aad46b4e210",
        "IPY_MODEL_09e5851ad6a3414c94c47b490672d54e"
       ],
       "layout": "IPY_MODEL_0692a5dfef0f4d299ccf4fa6606e2d48"
      }
     },
     "9d86fef93cc94543938f44cf568bc2c6": {
      "model_module": "@jupyter-widgets/controls",
      "model_module_version": "1.5.0",
      "model_name": "FloatProgressModel",
      "state": {
       "_dom_classes": [],
       "_model_module": "@jupyter-widgets/controls",
       "_model_module_version": "1.5.0",
       "_model_name": "FloatProgressModel",
       "_view_count": null,
       "_view_module": "@jupyter-widgets/controls",
       "_view_module_version": "1.5.0",
       "_view_name": "ProgressView",
       "bar_style": "success",
       "description": "Rendering DAG &quot;No name&quot;: 100%",
       "description_tooltip": null,
       "layout": "IPY_MODEL_cb6b9c8e256b4be8a55a965bde544084",
       "max": 3.0,
       "min": 0.0,
       "orientation": "horizontal",
       "style": "IPY_MODEL_a6b7785faa544eafa52eca6895b60bbb",
       "value": 3.0
      }
     },
     "a553ca378eeb4f338a174ce5a49ca002": {
      "model_module": "@jupyter-widgets/controls",
      "model_module_version": "1.5.0",
      "model_name": "DescriptionStyleModel",
      "state": {
       "_model_module": "@jupyter-widgets/controls",
       "_model_module_version": "1.5.0",
       "_model_name": "DescriptionStyleModel",
       "_view_count": null,
       "_view_module": "@jupyter-widgets/base",
       "_view_module_version": "1.2.0",
       "_view_name": "StyleView",
       "description_width": ""
      }
     },
     "a6725079014d4b19be1e28d8f3706811": {
      "model_module": "@jupyter-widgets/controls",
      "model_module_version": "1.5.0",
      "model_name": "HTMLModel",
      "state": {
       "_dom_classes": [],
       "_model_module": "@jupyter-widgets/controls",
       "_model_module_version": "1.5.0",
       "_model_name": "HTMLModel",
       "_view_count": null,
       "_view_module": "@jupyter-widgets/controls",
       "_view_module_version": "1.5.0",
       "_view_name": "HTMLView",
       "description": "",
       "description_tooltip": null,
       "layout": "IPY_MODEL_838f33aafd284c639c0f6a6d7741dd75",
       "placeholder": "​",
       "style": "IPY_MODEL_6b25bcfc8c0f45cd848bd269470636c4",
       "value": " 3/3 [00:00&lt;00:00, 141.82it/s]"
      }
     },
     "a6b7785faa544eafa52eca6895b60bbb": {
      "model_module": "@jupyter-widgets/controls",
      "model_module_version": "1.5.0",
      "model_name": "ProgressStyleModel",
      "state": {
       "_model_module": "@jupyter-widgets/controls",
       "_model_module_version": "1.5.0",
       "_model_name": "ProgressStyleModel",
       "_view_count": null,
       "_view_module": "@jupyter-widgets/base",
       "_view_module_version": "1.2.0",
       "_view_name": "StyleView",
       "bar_color": null,
       "description_width": "initial"
      }
     },
     "a8b5fd8cc3d04a479609cd01f286b5b0": {
      "model_module": "@jupyter-widgets/base",
      "model_module_version": "1.2.0",
      "model_name": "LayoutModel",
      "state": {
       "_model_module": "@jupyter-widgets/base",
       "_model_module_version": "1.2.0",
       "_model_name": "LayoutModel",
       "_view_count": null,
       "_view_module": "@jupyter-widgets/base",
       "_view_module_version": "1.2.0",
       "_view_name": "LayoutView",
       "align_content": null,
       "align_items": null,
       "align_self": null,
       "border": null,
       "bottom": null,
       "display": null,
       "flex": null,
       "flex_flow": null,
       "grid_area": null,
       "grid_auto_columns": null,
       "grid_auto_flow": null,
       "grid_auto_rows": null,
       "grid_column": null,
       "grid_gap": null,
       "grid_row": null,
       "grid_template_areas": null,
       "grid_template_columns": null,
       "grid_template_rows": null,
       "height": null,
       "justify_content": null,
       "justify_items": null,
       "left": null,
       "margin": null,
       "max_height": null,
       "max_width": null,
       "min_height": null,
       "min_width": null,
       "object_fit": null,
       "object_position": null,
       "order": null,
       "overflow": null,
       "overflow_x": null,
       "overflow_y": null,
       "padding": null,
       "right": null,
       "top": null,
       "visibility": null,
       "width": null
      }
     },
     "ab12d085ba034c4b9df2a5ce2b5b75ea": {
      "model_module": "@jupyter-widgets/controls",
      "model_module_version": "1.5.0",
      "model_name": "HBoxModel",
      "state": {
       "_dom_classes": [],
       "_model_module": "@jupyter-widgets/controls",
       "_model_module_version": "1.5.0",
       "_model_name": "HBoxModel",
       "_view_count": null,
       "_view_module": "@jupyter-widgets/controls",
       "_view_module_version": "1.5.0",
       "_view_name": "HBoxView",
       "box_style": "",
       "children": [
        "IPY_MODEL_36b881b6e6734925b38255774303c109",
        "IPY_MODEL_a6725079014d4b19be1e28d8f3706811"
       ],
       "layout": "IPY_MODEL_2f9494beae2c48bf8be326e662391f35"
      }
     },
     "b48f857a1ba24461a721bc80f61432e8": {
      "model_module": "@jupyter-widgets/controls",
      "model_module_version": "1.5.0",
      "model_name": "DescriptionStyleModel",
      "state": {
       "_model_module": "@jupyter-widgets/controls",
       "_model_module_version": "1.5.0",
       "_model_name": "DescriptionStyleModel",
       "_view_count": null,
       "_view_module": "@jupyter-widgets/base",
       "_view_module_version": "1.2.0",
       "_view_name": "StyleView",
       "description_width": ""
      }
     },
     "bdc3b5b111574c5cad0253c82efb5f04": {
      "model_module": "@jupyter-widgets/base",
      "model_module_version": "1.2.0",
      "model_name": "LayoutModel",
      "state": {
       "_model_module": "@jupyter-widgets/base",
       "_model_module_version": "1.2.0",
       "_model_name": "LayoutModel",
       "_view_count": null,
       "_view_module": "@jupyter-widgets/base",
       "_view_module_version": "1.2.0",
       "_view_name": "LayoutView",
       "align_content": null,
       "align_items": null,
       "align_self": null,
       "border": null,
       "bottom": null,
       "display": null,
       "flex": null,
       "flex_flow": null,
       "grid_area": null,
       "grid_auto_columns": null,
       "grid_auto_flow": null,
       "grid_auto_rows": null,
       "grid_column": null,
       "grid_gap": null,
       "grid_row": null,
       "grid_template_areas": null,
       "grid_template_columns": null,
       "grid_template_rows": null,
       "height": null,
       "justify_content": null,
       "justify_items": null,
       "left": null,
       "margin": null,
       "max_height": null,
       "max_width": null,
       "min_height": null,
       "min_width": null,
       "object_fit": null,
       "object_position": null,
       "order": null,
       "overflow": null,
       "overflow_x": null,
       "overflow_y": null,
       "padding": null,
       "right": null,
       "top": null,
       "visibility": null,
       "width": null
      }
     },
     "be691e44006f4fe2b01bae983b481ecd": {
      "model_module": "@jupyter-widgets/base",
      "model_module_version": "1.2.0",
      "model_name": "LayoutModel",
      "state": {
       "_model_module": "@jupyter-widgets/base",
       "_model_module_version": "1.2.0",
       "_model_name": "LayoutModel",
       "_view_count": null,
       "_view_module": "@jupyter-widgets/base",
       "_view_module_version": "1.2.0",
       "_view_name": "LayoutView",
       "align_content": null,
       "align_items": null,
       "align_self": null,
       "border": null,
       "bottom": null,
       "display": null,
       "flex": null,
       "flex_flow": null,
       "grid_area": null,
       "grid_auto_columns": null,
       "grid_auto_flow": null,
       "grid_auto_rows": null,
       "grid_column": null,
       "grid_gap": null,
       "grid_row": null,
       "grid_template_areas": null,
       "grid_template_columns": null,
       "grid_template_rows": null,
       "height": null,
       "justify_content": null,
       "justify_items": null,
       "left": null,
       "margin": null,
       "max_height": null,
       "max_width": null,
       "min_height": null,
       "min_width": null,
       "object_fit": null,
       "object_position": null,
       "order": null,
       "overflow": null,
       "overflow_x": null,
       "overflow_y": null,
       "padding": null,
       "right": null,
       "top": null,
       "visibility": null,
       "width": null
      }
     },
     "cb6b9c8e256b4be8a55a965bde544084": {
      "model_module": "@jupyter-widgets/base",
      "model_module_version": "1.2.0",
      "model_name": "LayoutModel",
      "state": {
       "_model_module": "@jupyter-widgets/base",
       "_model_module_version": "1.2.0",
       "_model_name": "LayoutModel",
       "_view_count": null,
       "_view_module": "@jupyter-widgets/base",
       "_view_module_version": "1.2.0",
       "_view_name": "LayoutView",
       "align_content": null,
       "align_items": null,
       "align_self": null,
       "border": null,
       "bottom": null,
       "display": null,
       "flex": null,
       "flex_flow": null,
       "grid_area": null,
       "grid_auto_columns": null,
       "grid_auto_flow": null,
       "grid_auto_rows": null,
       "grid_column": null,
       "grid_gap": null,
       "grid_row": null,
       "grid_template_areas": null,
       "grid_template_columns": null,
       "grid_template_rows": null,
       "height": null,
       "justify_content": null,
       "justify_items": null,
       "left": null,
       "margin": null,
       "max_height": null,
       "max_width": null,
       "min_height": null,
       "min_width": null,
       "object_fit": null,
       "object_position": null,
       "order": null,
       "overflow": null,
       "overflow_x": null,
       "overflow_y": null,
       "padding": null,
       "right": null,
       "top": null,
       "visibility": null,
       "width": null
      }
     },
     "d3896b3891ff43f98eba4a4f09ec887a": {
      "model_module": "@jupyter-widgets/controls",
      "model_module_version": "1.5.0",
      "model_name": "ProgressStyleModel",
      "state": {
       "_model_module": "@jupyter-widgets/controls",
       "_model_module_version": "1.5.0",
       "_model_name": "ProgressStyleModel",
       "_view_count": null,
       "_view_module": "@jupyter-widgets/base",
       "_view_module_version": "1.2.0",
       "_view_name": "StyleView",
       "bar_color": null,
       "description_width": "initial"
      }
     },
     "e69437def90e43d887893f719d1c211d": {
      "model_module": "@jupyter-widgets/controls",
      "model_module_version": "1.5.0",
      "model_name": "FloatProgressModel",
      "state": {
       "_dom_classes": [],
       "_model_module": "@jupyter-widgets/controls",
       "_model_module_version": "1.5.0",
       "_model_name": "FloatProgressModel",
       "_view_count": null,
       "_view_module": "@jupyter-widgets/controls",
       "_view_module_version": "1.5.0",
       "_view_name": "ProgressView",
       "bar_style": "success",
       "description": "Rendering DAG &quot;No name&quot;: 100%",
       "description_tooltip": null,
       "layout": "IPY_MODEL_58b07e5fd96d43cc9196240abfcc9a02",
       "max": 3.0,
       "min": 0.0,
       "orientation": "horizontal",
       "style": "IPY_MODEL_d3896b3891ff43f98eba4a4f09ec887a",
       "value": 3.0
      }
     },
     "ed9d8960008b413fa017536326c63c3c": {
      "model_module": "@jupyter-widgets/base",
      "model_module_version": "1.2.0",
      "model_name": "LayoutModel",
      "state": {
       "_model_module": "@jupyter-widgets/base",
       "_model_module_version": "1.2.0",
       "_model_name": "LayoutModel",
       "_view_count": null,
       "_view_module": "@jupyter-widgets/base",
       "_view_module_version": "1.2.0",
       "_view_name": "LayoutView",
       "align_content": null,
       "align_items": null,
       "align_self": null,
       "border": null,
       "bottom": null,
       "display": null,
       "flex": null,
       "flex_flow": null,
       "grid_area": null,
       "grid_auto_columns": null,
       "grid_auto_flow": null,
       "grid_auto_rows": null,
       "grid_column": null,
       "grid_gap": null,
       "grid_row": null,
       "grid_template_areas": null,
       "grid_template_columns": null,
       "grid_template_rows": null,
       "height": null,
       "justify_content": null,
       "justify_items": null,
       "left": null,
       "margin": null,
       "max_height": null,
       "max_width": null,
       "min_height": null,
       "min_width": null,
       "object_fit": null,
       "object_position": null,
       "order": null,
       "overflow": null,
       "overflow_x": null,
       "overflow_y": null,
       "padding": null,
       "right": null,
       "top": null,
       "visibility": null,
       "width": null
      }
     },
     "f95a92d58e9b4028abdd4d2b6f073f0a": {
      "model_module": "@jupyter-widgets/base",
      "model_module_version": "1.2.0",
      "model_name": "LayoutModel",
      "state": {
       "_model_module": "@jupyter-widgets/base",
       "_model_module_version": "1.2.0",
       "_model_name": "LayoutModel",
       "_view_count": null,
       "_view_module": "@jupyter-widgets/base",
       "_view_module_version": "1.2.0",
       "_view_name": "LayoutView",
       "align_content": null,
       "align_items": null,
       "align_self": null,
       "border": null,
       "bottom": null,
       "display": null,
       "flex": null,
       "flex_flow": null,
       "grid_area": null,
       "grid_auto_columns": null,
       "grid_auto_flow": null,
       "grid_auto_rows": null,
       "grid_column": null,
       "grid_gap": null,
       "grid_row": null,
       "grid_template_areas": null,
       "grid_template_columns": null,
       "grid_template_rows": null,
       "height": null,
       "justify_content": null,
       "justify_items": null,
       "left": null,
       "margin": null,
       "max_height": null,
       "max_width": null,
       "min_height": null,
       "min_width": null,
       "object_fit": null,
       "object_position": null,
       "order": null,
       "overflow": null,
       "overflow_x": null,
       "overflow_y": null,
       "padding": null,
       "right": null,
       "top": null,
       "visibility": null,
       "width": null
      }
     }
    },
    "version_major": 2,
    "version_minor": 0
   }
  }
 },
 "nbformat": 4,
 "nbformat_minor": 4
}