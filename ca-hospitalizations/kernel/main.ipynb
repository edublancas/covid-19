{
 "cells": [
  {
   "cell_type": "markdown",
   "metadata": {},
   "source": [
    "# California COVID-19 Hospitalizations\n",
    "\n",
    "COVID-19 hospitalizations in California by county.\n",
    "\n",
    "## Requirements"
   ]
  },
  {
   "cell_type": "code",
   "execution_count": null,
   "metadata": {},
   "outputs": [],
   "source": [
    "! conda install pygraphviz --yes --quiet"
   ]
  },
  {
   "cell_type": "code",
   "execution_count": null,
   "metadata": {},
   "outputs": [],
   "source": [
    "! pip install jupyter pandas ploomber matplotlib --quiet"
   ]
  },
  {
   "cell_type": "markdown",
   "metadata": {},
   "source": [
    "## Data sources\n",
    "\n",
    "COVID-19: https://data.chhs.ca.gov/dataset/california-covid-19-hospital-data-and-case-statistics\n",
    "\n",
    "Population: https://data.ca.gov/dataset/california-population-projection-by-county-age-gender-and-ethnicity\n",
    "\n",
    "## Data cleaning"
   ]
  },
  {
   "cell_type": "code",
   "execution_count": null,
   "metadata": {},
   "outputs": [],
   "source": [
    "import pandas as pd\n",
    "from pathlib import Path\n",
    "\n",
    "from IPython.display import Image\n",
    "import matplotlib.pyplot as plt\n",
    "import matplotlib as mpl\n",
    "\n",
    "from ploomber import DAG\n",
    "from ploomber.tasks import DownloadFromURL, PythonCallable\n",
    "from ploomber.products import File"
   ]
  },
  {
   "cell_type": "code",
   "execution_count": null,
   "metadata": {},
   "outputs": [],
   "source": [
    "# matplotlib config\n",
    "plt.style.use('ggplot')\n",
    "\n",
    "mpl.rcParams['axes.titlesize'] = 20\n",
    "mpl.rcParams['axes.labelsize'] = 14\n",
    "mpl.rcParams['xtick.labelsize'] = 16\n",
    "mpl.rcParams['ytick.labelsize'] = 16\n",
    "mpl.rcParams['figure.figsize'] = [8.0, 8.0]\n",
    "mpl.rcParams['figure.dpi'] = 120"
   ]
  },
  {
   "cell_type": "code",
   "execution_count": null,
   "metadata": {},
   "outputs": [],
   "source": [
    "# we will save everything in output/\n",
    "ROOT = Path('output/')\n",
    "ROOT.mkdir(exist_ok=True)"
   ]
  },
  {
   "cell_type": "code",
   "execution_count": null,
   "metadata": {},
   "outputs": [],
   "source": [
    "# we use ploomber to get the organize our tasks\n",
    "dag = DAG()"
   ]
  },
  {
   "cell_type": "code",
   "execution_count": null,
   "metadata": {},
   "outputs": [],
   "source": [
    "# first two tasks just download the data\n",
    "\n",
    "SOURCE = 'https://data.chhs.ca.gov/dataset/6882c390-b2d7-4b9a-aefa-2068cee63e47/resource/6cd8d424-dfaa-4bdd-9410-a3d656e1176e/download/covid19data.csv'\n",
    "download = DownloadFromURL(SOURCE, File(ROOT / 'raw.csv'), dag, name='raw')\n",
    "\n",
    "SOURCE_POP = 'https://data.ca.gov/dataset/7a8c03d3-ed86-498a-acdb-8ea09ccb4130/resource/2c217b79-4625-4ab2-86b3-6fc5d66f0409/download/population-estimates-and-projections-by-county-age-and-sex-california-1970-2050.csv'\n",
    "download_pop = DownloadFromURL(SOURCE_POP, File(\n",
    "    ROOT / 'raw_pop'), dag, name='raw_pop')"
   ]
  },
  {
   "cell_type": "code",
   "execution_count": null,
   "metadata": {},
   "outputs": [],
   "source": [
    "# we then join the downloaded data to normalize using population by county\n",
    "def _join(upstream, product):\n",
    "    \"\"\"Join California COVID-19 hospitalizations with population data\n",
    "    \"\"\"\n",
    "    df = pd.read_csv(str(upstream['raw']))\n",
    "\n",
    "    df['Most Recent Date'] = pd.to_datetime(df['Most Recent Date'])\n",
    "    idx_m_recent = df.groupby('County Name')['Most Recent Date'].idxmax()\n",
    "    m_recent_total = df.iloc[idx_m_recent][['Most Recent Date', 'County Name',\n",
    "                                            'Total Count Confirmed']]\n",
    "    m_recent_total['county'] = m_recent_total['County Name'].str.upper()\n",
    "\n",
    "    pop = pd.read_csv(str(upstream['raw_pop']))\n",
    "    pop_by_county = pop[pop.year == 2020].groupby('county')[\n",
    "        ['pop_total']].sum()\n",
    "    m_recent = pop_by_county.merge(m_recent_total, on='county')\n",
    "    m_recent['Total count per 100k population'] = (m_recent['Total Count Confirmed']\n",
    "                                                   / m_recent['pop_total'] * 100_000)\n",
    "    m_recent.to_csv(str(product), index=False)"
   ]
  },
  {
   "cell_type": "code",
   "execution_count": null,
   "metadata": {},
   "outputs": [],
   "source": [
    "join = PythonCallable(_join, File(ROOT / 'joined.csv'), dag, name='joined')\n",
    "\n",
    "# the joined data depends on the raw data\n",
    "(download + download_pop) >> join"
   ]
  },
  {
   "cell_type": "code",
   "execution_count": null,
   "metadata": {},
   "outputs": [],
   "source": [
    "# summary table\n",
    "dag.status()"
   ]
  },
  {
   "cell_type": "code",
   "execution_count": null,
   "metadata": {},
   "outputs": [],
   "source": [
    "# plot. NOTE: pygraphviz is required to plot, easiest way to install is via \"conda install pygraphviz\"\n",
    "path = dag.plot()\n",
    "Image(filename=path)"
   ]
  },
  {
   "cell_type": "code",
   "execution_count": null,
   "metadata": {},
   "outputs": [],
   "source": [
    "# run all tasks\n",
    "dag.build()"
   ]
  },
  {
   "cell_type": "markdown",
   "metadata": {},
   "source": [
    "## Hospitalizations per 100,000 people"
   ]
  },
  {
   "cell_type": "code",
   "execution_count": null,
   "metadata": {},
   "outputs": [],
   "source": [
    "# load joined data\n",
    "m_recent = pd.read_csv(str(dag['joined']))"
   ]
  },
  {
   "cell_type": "code",
   "execution_count": null,
   "metadata": {},
   "outputs": [],
   "source": [
    "(m_recent[['County Name', 'Total count per 100k population']]\n",
    " .set_index('County Name')\n",
    " .sort_values(by='Total count per 100k population', ascending=False)\n",
    " .head(10)\n",
    " .plot(kind='bar', title='Normalized cases by county (top 10)'))"
   ]
  }
 ],
 "metadata": {
  "jupytext": {
   "cell_metadata_filter": "-all"
  },
  "kernelspec": {
   "display_name": "Python 3",
   "language": "python",
   "name": "python3"
  }
 },
 "nbformat": 4,
 "nbformat_minor": 4
}
